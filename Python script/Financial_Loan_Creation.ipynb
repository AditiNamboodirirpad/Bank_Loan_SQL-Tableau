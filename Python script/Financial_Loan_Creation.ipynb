{
 "cells": [
  {
   "cell_type": "markdown",
   "id": "9cd39d96",
   "metadata": {},
   "source": [
    "# Bank Loan Creation "
   ]
  },
  {
   "cell_type": "markdown",
   "id": "fc4b40e3",
   "metadata": {},
   "source": [
    "I've crafted a Python script designed to generate and compile INSERT statements."
   ]
  },
  {
   "cell_type": "markdown",
   "id": "bb852d64",
   "metadata": {},
   "source": [
    "Importing the packages"
   ]
  },
  {
   "cell_type": "code",
   "execution_count": 1,
   "id": "240aa6e7",
   "metadata": {},
   "outputs": [],
   "source": [
    "import pandas as pd"
   ]
  },
  {
   "cell_type": "markdown",
   "id": "be8117b4",
   "metadata": {},
   "source": [
    "Reading the csv"
   ]
  },
  {
   "cell_type": "code",
   "execution_count": 2,
   "id": "babf3cc5",
   "metadata": {},
   "outputs": [
    {
     "data": {
      "text/html": [
       "<div>\n",
       "<style scoped>\n",
       "    .dataframe tbody tr th:only-of-type {\n",
       "        vertical-align: middle;\n",
       "    }\n",
       "\n",
       "    .dataframe tbody tr th {\n",
       "        vertical-align: top;\n",
       "    }\n",
       "\n",
       "    .dataframe thead th {\n",
       "        text-align: right;\n",
       "    }\n",
       "</style>\n",
       "<table border=\"1\" class=\"dataframe\">\n",
       "  <thead>\n",
       "    <tr style=\"text-align: right;\">\n",
       "      <th></th>\n",
       "      <th>id</th>\n",
       "      <th>address_state</th>\n",
       "      <th>application_type</th>\n",
       "      <th>emp_length</th>\n",
       "      <th>emp_title</th>\n",
       "      <th>grade</th>\n",
       "      <th>home_ownership</th>\n",
       "      <th>issue_date</th>\n",
       "      <th>last_credit_pull_date</th>\n",
       "      <th>last_payment_date</th>\n",
       "      <th>...</th>\n",
       "      <th>sub_grade</th>\n",
       "      <th>term</th>\n",
       "      <th>verification_status</th>\n",
       "      <th>annual_income</th>\n",
       "      <th>dti</th>\n",
       "      <th>installment</th>\n",
       "      <th>int_rate</th>\n",
       "      <th>loan_amount</th>\n",
       "      <th>total_acc</th>\n",
       "      <th>total_payment</th>\n",
       "    </tr>\n",
       "  </thead>\n",
       "  <tbody>\n",
       "    <tr>\n",
       "      <th>0</th>\n",
       "      <td>1077430</td>\n",
       "      <td>GA</td>\n",
       "      <td>INDIVIDUAL</td>\n",
       "      <td>&lt; 1 year</td>\n",
       "      <td>Ryder</td>\n",
       "      <td>C</td>\n",
       "      <td>RENT</td>\n",
       "      <td>11-02-2021</td>\n",
       "      <td>13-09-2021</td>\n",
       "      <td>13-04-2021</td>\n",
       "      <td>...</td>\n",
       "      <td>C4</td>\n",
       "      <td>60 months</td>\n",
       "      <td>Source Verified</td>\n",
       "      <td>30000.0</td>\n",
       "      <td>0.0100</td>\n",
       "      <td>59.83</td>\n",
       "      <td>0.1527</td>\n",
       "      <td>2500</td>\n",
       "      <td>4</td>\n",
       "      <td>1009</td>\n",
       "    </tr>\n",
       "    <tr>\n",
       "      <th>1</th>\n",
       "      <td>1072053</td>\n",
       "      <td>CA</td>\n",
       "      <td>INDIVIDUAL</td>\n",
       "      <td>9 years</td>\n",
       "      <td>MKC Accounting</td>\n",
       "      <td>E</td>\n",
       "      <td>RENT</td>\n",
       "      <td>01-01-2021</td>\n",
       "      <td>14-12-2021</td>\n",
       "      <td>15-01-2021</td>\n",
       "      <td>...</td>\n",
       "      <td>E1</td>\n",
       "      <td>36 months</td>\n",
       "      <td>Source Verified</td>\n",
       "      <td>48000.0</td>\n",
       "      <td>0.0535</td>\n",
       "      <td>109.43</td>\n",
       "      <td>0.1864</td>\n",
       "      <td>3000</td>\n",
       "      <td>4</td>\n",
       "      <td>3939</td>\n",
       "    </tr>\n",
       "    <tr>\n",
       "      <th>2</th>\n",
       "      <td>1069243</td>\n",
       "      <td>CA</td>\n",
       "      <td>INDIVIDUAL</td>\n",
       "      <td>4 years</td>\n",
       "      <td>Chemat Technology Inc</td>\n",
       "      <td>C</td>\n",
       "      <td>RENT</td>\n",
       "      <td>05-01-2021</td>\n",
       "      <td>12-12-2021</td>\n",
       "      <td>09-01-2021</td>\n",
       "      <td>...</td>\n",
       "      <td>C5</td>\n",
       "      <td>36 months</td>\n",
       "      <td>Not Verified</td>\n",
       "      <td>50000.0</td>\n",
       "      <td>0.2088</td>\n",
       "      <td>421.65</td>\n",
       "      <td>0.1596</td>\n",
       "      <td>12000</td>\n",
       "      <td>11</td>\n",
       "      <td>3522</td>\n",
       "    </tr>\n",
       "    <tr>\n",
       "      <th>3</th>\n",
       "      <td>1041756</td>\n",
       "      <td>TX</td>\n",
       "      <td>INDIVIDUAL</td>\n",
       "      <td>&lt; 1 year</td>\n",
       "      <td>barnes distribution</td>\n",
       "      <td>B</td>\n",
       "      <td>MORTGAGE</td>\n",
       "      <td>25-02-2021</td>\n",
       "      <td>12-12-2021</td>\n",
       "      <td>12-03-2021</td>\n",
       "      <td>...</td>\n",
       "      <td>B2</td>\n",
       "      <td>60 months</td>\n",
       "      <td>Source Verified</td>\n",
       "      <td>42000.0</td>\n",
       "      <td>0.0540</td>\n",
       "      <td>97.06</td>\n",
       "      <td>0.1065</td>\n",
       "      <td>4500</td>\n",
       "      <td>9</td>\n",
       "      <td>4911</td>\n",
       "    </tr>\n",
       "    <tr>\n",
       "      <th>4</th>\n",
       "      <td>1068350</td>\n",
       "      <td>IL</td>\n",
       "      <td>INDIVIDUAL</td>\n",
       "      <td>10+ years</td>\n",
       "      <td>J&amp;J Steel Inc</td>\n",
       "      <td>A</td>\n",
       "      <td>MORTGAGE</td>\n",
       "      <td>01-01-2021</td>\n",
       "      <td>14-12-2021</td>\n",
       "      <td>15-01-2021</td>\n",
       "      <td>...</td>\n",
       "      <td>A1</td>\n",
       "      <td>36 months</td>\n",
       "      <td>Verified</td>\n",
       "      <td>83000.0</td>\n",
       "      <td>0.0231</td>\n",
       "      <td>106.53</td>\n",
       "      <td>0.0603</td>\n",
       "      <td>3500</td>\n",
       "      <td>28</td>\n",
       "      <td>3835</td>\n",
       "    </tr>\n",
       "  </tbody>\n",
       "</table>\n",
       "<p>5 rows × 24 columns</p>\n",
       "</div>"
      ],
      "text/plain": [
       "        id address_state application_type emp_length              emp_title  \\\n",
       "0  1077430            GA       INDIVIDUAL   < 1 year                  Ryder   \n",
       "1  1072053            CA       INDIVIDUAL    9 years         MKC Accounting   \n",
       "2  1069243            CA       INDIVIDUAL    4 years  Chemat Technology Inc   \n",
       "3  1041756            TX       INDIVIDUAL   < 1 year    barnes distribution   \n",
       "4  1068350            IL       INDIVIDUAL  10+ years          J&J Steel Inc   \n",
       "\n",
       "  grade home_ownership  issue_date last_credit_pull_date last_payment_date  \\\n",
       "0     C           RENT  11-02-2021            13-09-2021        13-04-2021   \n",
       "1     E           RENT  01-01-2021            14-12-2021        15-01-2021   \n",
       "2     C           RENT  05-01-2021            12-12-2021        09-01-2021   \n",
       "3     B       MORTGAGE  25-02-2021            12-12-2021        12-03-2021   \n",
       "4     A       MORTGAGE  01-01-2021            14-12-2021        15-01-2021   \n",
       "\n",
       "   ... sub_grade        term  verification_status annual_income     dti  \\\n",
       "0  ...        C4   60 months      Source Verified       30000.0  0.0100   \n",
       "1  ...        E1   36 months      Source Verified       48000.0  0.0535   \n",
       "2  ...        C5   36 months         Not Verified       50000.0  0.2088   \n",
       "3  ...        B2   60 months      Source Verified       42000.0  0.0540   \n",
       "4  ...        A1   36 months             Verified       83000.0  0.0231   \n",
       "\n",
       "  installment int_rate  loan_amount  total_acc  total_payment  \n",
       "0       59.83   0.1527         2500          4           1009  \n",
       "1      109.43   0.1864         3000          4           3939  \n",
       "2      421.65   0.1596        12000         11           3522  \n",
       "3       97.06   0.1065         4500          9           4911  \n",
       "4      106.53   0.0603         3500         28           3835  \n",
       "\n",
       "[5 rows x 24 columns]"
      ]
     },
     "execution_count": 2,
     "metadata": {},
     "output_type": "execute_result"
    }
   ],
   "source": [
    "#Read csv\n",
    "df=pd.read_csv(\"financial_loan.csv\")\n",
    "df.head()"
   ]
  },
  {
   "cell_type": "markdown",
   "id": "c8cf133d",
   "metadata": {},
   "source": [
    "Checking the number of rows and columns"
   ]
  },
  {
   "cell_type": "code",
   "execution_count": 3,
   "id": "27e93940",
   "metadata": {},
   "outputs": [
    {
     "data": {
      "text/plain": [
       "(38576, 24)"
      ]
     },
     "execution_count": 3,
     "metadata": {},
     "output_type": "execute_result"
    }
   ],
   "source": [
    "#Shape of the dataframe\n",
    "df.shape"
   ]
  },
  {
   "cell_type": "markdown",
   "id": "29023e58",
   "metadata": {},
   "source": [
    "Checking the datatype of the columns"
   ]
  },
  {
   "cell_type": "code",
   "execution_count": 4,
   "id": "1d99a963",
   "metadata": {
    "scrolled": false
   },
   "outputs": [
    {
     "name": "stdout",
     "output_type": "stream",
     "text": [
      "<class 'pandas.core.frame.DataFrame'>\n",
      "RangeIndex: 38576 entries, 0 to 38575\n",
      "Data columns (total 24 columns):\n",
      " #   Column                 Non-Null Count  Dtype  \n",
      "---  ------                 --------------  -----  \n",
      " 0   id                     38576 non-null  int64  \n",
      " 1   address_state          38576 non-null  object \n",
      " 2   application_type       38576 non-null  object \n",
      " 3   emp_length             38576 non-null  object \n",
      " 4   emp_title              37138 non-null  object \n",
      " 5   grade                  38576 non-null  object \n",
      " 6   home_ownership         38576 non-null  object \n",
      " 7   issue_date             38576 non-null  object \n",
      " 8   last_credit_pull_date  38576 non-null  object \n",
      " 9   last_payment_date      38576 non-null  object \n",
      " 10  loan_status            38576 non-null  object \n",
      " 11  next_payment_date      38576 non-null  object \n",
      " 12  member_id              38576 non-null  int64  \n",
      " 13  purpose                38576 non-null  object \n",
      " 14  sub_grade              38576 non-null  object \n",
      " 15  term                   38576 non-null  object \n",
      " 16  verification_status    38576 non-null  object \n",
      " 17  annual_income          38576 non-null  float64\n",
      " 18  dti                    38576 non-null  float64\n",
      " 19  installment            38576 non-null  float64\n",
      " 20  int_rate               38576 non-null  float64\n",
      " 21  loan_amount            38576 non-null  int64  \n",
      " 22  total_acc              38576 non-null  int64  \n",
      " 23  total_payment          38576 non-null  int64  \n",
      "dtypes: float64(4), int64(5), object(15)\n",
      "memory usage: 7.1+ MB\n"
     ]
    }
   ],
   "source": [
    "#Info of dataframe\n",
    "df.info()"
   ]
  },
  {
   "cell_type": "markdown",
   "id": "aad2da20",
   "metadata": {},
   "source": [
    "Checking the null values"
   ]
  },
  {
   "cell_type": "code",
   "execution_count": 5,
   "id": "0a741327",
   "metadata": {
    "scrolled": false
   },
   "outputs": [
    {
     "data": {
      "text/plain": [
       "id                          0\n",
       "address_state               0\n",
       "application_type            0\n",
       "emp_length                  0\n",
       "emp_title                1438\n",
       "grade                       0\n",
       "home_ownership              0\n",
       "issue_date                  0\n",
       "last_credit_pull_date       0\n",
       "last_payment_date           0\n",
       "loan_status                 0\n",
       "next_payment_date           0\n",
       "member_id                   0\n",
       "purpose                     0\n",
       "sub_grade                   0\n",
       "term                        0\n",
       "verification_status         0\n",
       "annual_income               0\n",
       "dti                         0\n",
       "installment                 0\n",
       "int_rate                    0\n",
       "loan_amount                 0\n",
       "total_acc                   0\n",
       "total_payment               0\n",
       "dtype: int64"
      ]
     },
     "execution_count": 5,
     "metadata": {},
     "output_type": "execute_result"
    }
   ],
   "source": [
    "#Null values\n",
    "df.isna().sum()"
   ]
  },
  {
   "cell_type": "markdown",
   "id": "15e2ee1a",
   "metadata": {},
   "source": [
    "Table created using MySQL in SQL workbench.\n"
   ]
  },
  {
   "cell_type": "markdown",
   "id": "f36a8872",
   "metadata": {},
   "source": [
    "\n",
    "\n",
    "Table Structure:\n",
    "\n",
    "\n",
    "| Column Name          | Data Type       | Constraints       |\n",
    "|----------------------|-----------------|-------------------|\n",
    "| id                   | INT             | NOT NULL, PRIMARY KEY |\n",
    "| address_state        | VARCHAR(50)     | NOT NULL          |\n",
    "| application_type     | VARCHAR(50)     | NOT NULL          |\n",
    "| emp_length           | VARCHAR(50)     | NOT NULL          |\n",
    "| emp_title            | VARCHAR(150)    |                   |\n",
    "| grade                | VARCHAR(50)     | NOT NULL          |\n",
    "| home_ownership       | VARCHAR(50)     | NOT NULL          |\n",
    "| issue_date           | DATE            | NOT NULL          |\n",
    "| last_credit_pull_date| DATE            | NOT NULL          |\n",
    "| last_payment_date    | DATE            | NOT NULL          |\n",
    "| loan_status          | VARCHAR(50)     | NOT NULL          |\n",
    "| next_payment_date    | DATE            | NOT NULL          |\n",
    "| member_id            | INT             | NOT NULL          |\n",
    "| purpose              | VARCHAR(50)     | NOT NULL          |\n",
    "| sub_grade            | VARCHAR(50)     | NOT NULL          |\n",
    "| term                 | VARCHAR(50)     | NOT NULL          |\n",
    "| verification_status  | VARCHAR(50)     | NOT NULL          |\n",
    "| annual_income        | FLOAT           | NOT NULL          |\n",
    "| dti                  | FLOAT           | NOT NULL          |\n",
    "| installment          | FLOAT           | NOT NULL          |\n",
    "| int_rate             | FLOAT           | NOT NULL          |\n",
    "| loan_amount          | INT             | NOT NULL          |\n",
    "| total_acc            | TINYINT         | NOT NULL          |\n",
    "| total_payment        | INT             | NOT NULL          |\n",
    "\n"
   ]
  },
  {
   "cell_type": "markdown",
   "id": "c49fb34c",
   "metadata": {},
   "source": [
    "Making changes to the data from the csv and writing INSERT statements."
   ]
  },
  {
   "cell_type": "code",
   "execution_count": 6,
   "id": "71814b7c",
   "metadata": {},
   "outputs": [],
   "source": [
    "from datetime import datetime\n",
    "\n",
    "# Schema name\n",
    "schema_name = 'bank_loan'\n",
    "#Table name\n",
    "table_name = 'financial_loan'\n",
    "\n",
    "# Converting date columns to the correct datetime format\n",
    "date_columns = ['issue_date', 'last_credit_pull_date', 'last_payment_date', 'next_payment_date']\n",
    "for col in date_columns:\n",
    "    df[col] = df[col].apply(lambda x: datetime.strptime(x, '%d-%m-%Y').strftime('%Y-%m-%d'))\n",
    "    \n",
    "# Converting 'nan' strings to None values in the DataFrame\n",
    "df.replace('nan', None, inplace=True)\n",
    "\n",
    "# SQL insert statements\n",
    "sql_statements = []\n",
    "for _, row in df.iterrows():\n",
    "    # Generating SQL values, replacing Python None with 'NULL'\n",
    "    values = ', '.join([\n",
    "        f'\"{value}\"' if isinstance(value, str) and value is not None else  # Wrapping string values in double quotes\n",
    "        'NULL' if pd.isna(value) else  # Else replacing NaN values with 'NULL'\n",
    "        str(value) for value in row  # Else converting values to strings\n",
    "    # Appending the SQL insert statement to the list\n",
    "    sql_statements.append(f\"INSERT INTO {schema_name}.{table_name} VALUES ({values});\")\n",
    "\n",
    "# Writing SQL insert statements to a SQL file\n",
    "with open('Part_I_Financial_Loan_SQL_Creation.sql', 'a') as f:\n",
    "    f.write('\\n'.join(sql_statements))\n"
   ]
  },
  {
   "cell_type": "markdown",
   "id": "05115307",
   "metadata": {},
   "source": [
    "Successfully wrote INSERT statements with the python. \n",
    "To prevent errors during CSV import into MySQL Workbench, I've employed this approach, though it might not be the most optimal one."
   ]
  }
 ],
 "metadata": {
  "kernelspec": {
   "display_name": "Python 3 (ipykernel)",
   "language": "python",
   "name": "python3"
  },
  "language_info": {
   "codemirror_mode": {
    "name": "ipython",
    "version": 3
   },
   "file_extension": ".py",
   "mimetype": "text/x-python",
   "name": "python",
   "nbconvert_exporter": "python",
   "pygments_lexer": "ipython3",
   "version": "3.10.13"
  }
 },
 "nbformat": 4,
 "nbformat_minor": 5
}
